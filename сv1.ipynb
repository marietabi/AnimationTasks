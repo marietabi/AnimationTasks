{
  "nbformat": 4,
  "nbformat_minor": 0,
  "metadata": {
    "colab": {
      "name": "сv1.ipynb",
      "provenance": [],
      "collapsed_sections": [],
      "authorship_tag": "ABX9TyNAokSR1G+QbnzsLLudZCZK",
      "include_colab_link": true
    },
    "kernelspec": {
      "name": "python3",
      "display_name": "Python 3"
    },
    "language_info": {
      "name": "python"
    }
  },
  "cells": [
    {
      "cell_type": "markdown",
      "metadata": {
        "id": "view-in-github",
        "colab_type": "text"
      },
      "source": [
        "<a href=\"https://colab.research.google.com/github/mariatabi/AnimationTasks/blob/main/%D1%81v1.ipynb\" target=\"_parent\"><img src=\"https://colab.research.google.com/assets/colab-badge.svg\" alt=\"Open In Colab\"/></a>"
      ]
    },
    {
      "cell_type": "code",
      "metadata": {
        "id": "1Trkgn88fyx8"
      },
      "source": [
        "import matplotlib.pyplot as plt\n",
        "import numpy as np"
      ],
      "execution_count": null,
      "outputs": []
    },
    {
      "cell_type": "code",
      "metadata": {
        "colab": {
          "base_uri": "https://localhost:8080/",
          "height": 284
        },
        "id": "GfYJnL2nfvkf",
        "outputId": "e393aca0-8ec0-4a28-ccf0-3bbbd417f1fc"
      },
      "source": [
        "def nominal(image, max):\n",
        "    pixel = [i for i in image if 1 in i]\n",
        "\n",
        "    if (len(pixel)) == 0:\n",
        "      return \"no object\"\n",
        "    else:\n",
        "        res = max/len(pixel) \n",
        "        return res\n",
        "\n",
        "file = open(\"figure1.txt\")\n",
        "\n",
        "max = float(file.readline())\n",
        "\n",
        "file.readline()\n",
        "\n",
        "image = []\n",
        "   \n",
        "for line in file:\n",
        "  image.append ([int(c) for c in line.split()])\n",
        "\n",
        "image = np.array(image)\n",
        "plt.imshow(image)\n",
        "\n",
        "\n",
        "print(nominal(image, max))\n",
        "plt.show()"
      ],
      "execution_count": null,
      "outputs": [
        {
          "output_type": "stream",
          "name": "stdout",
          "text": [
            "0.47368421052631576\n"
          ]
        },
        {
          "output_type": "display_data",
          "data": {
            "image/png": "[encoded data removed]",
            "text/plain": [
              "<Figure size 432x288 with 1 Axes>"
            ]
          },
          "metadata": {
            "needs_background": "light"
          }
        }
      ]
    }
  ]
}